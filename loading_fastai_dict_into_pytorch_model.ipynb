{
 "cells": [
  {
   "cell_type": "code",
   "execution_count": 14,
   "metadata": {},
   "outputs": [],
   "source": [
    "from fastai import *\n",
    "import matplotlib.pyplot as plt\n",
    "from fastai.vision import *\n",
    "from fastai.callbacks.hooks import num_features_model\n",
    "import cv2\n",
    "from fastai.callbacks.hooks import num_features_model\n",
    "from fastai.vision import create_head"
   ]
  },
  {
   "cell_type": "code",
   "execution_count": 15,
   "metadata": {},
   "outputs": [],
   "source": [
    "from motion.detect_human import BBoxDataset"
   ]
  },
  {
   "cell_type": "code",
   "execution_count": 16,
   "metadata": {},
   "outputs": [],
   "source": [
    "pretrained = 'models/fastai_bbox_detect_humans_val3.pth'"
   ]
  },
  {
   "cell_type": "code",
   "execution_count": 17,
   "metadata": {},
   "outputs": [],
   "source": [
    "checkpoint = torch.load(pretrained)"
   ]
  },
  {
   "cell_type": "code",
   "execution_count": 18,
   "metadata": {},
   "outputs": [
    {
     "data": {
      "text/plain": [
       "dict_keys(['model', 'opt'])"
      ]
     },
     "execution_count": 18,
     "metadata": {},
     "output_type": "execute_result"
    }
   ],
   "source": [
    "checkpoint.keys()"
   ]
  },
  {
   "cell_type": "code",
   "execution_count": 25,
   "metadata": {},
   "outputs": [
    {
     "data": {
      "text/plain": [
       "[torch.Size([4096]),\n",
       " torch.Size([4096]),\n",
       " torch.Size([4096]),\n",
       " torch.Size([4096]),\n",
       " torch.Size([]),\n",
       " torch.Size([512, 4096]),\n",
       " torch.Size([512]),\n",
       " torch.Size([512]),\n",
       " torch.Size([512]),\n",
       " torch.Size([512]),\n",
       " torch.Size([512]),\n",
       " torch.Size([]),\n",
       " torch.Size([4, 512]),\n",
       " torch.Size([4])]"
      ]
     },
     "execution_count": 25,
     "metadata": {},
     "output_type": "execute_result"
    }
   ],
   "source": [
    "weights = checkpoint['model']\n",
    "[weights[k].shape for k in weights.keys() if 'head' in k]"
   ]
  },
  {
   "cell_type": "code",
   "execution_count": 20,
   "metadata": {},
   "outputs": [],
   "source": [
    "class FlukeDetector2(nn.Module):\n",
    "    def __init__(self, arch=models.resnet18):\n",
    "        super().__init__() \n",
    "        self.cnn = create_body(arch)\n",
    "        self.head = create_head(num_features_model(self.cnn) * 2, 4)\n",
    "        \n",
    "    def forward(self, im):\n",
    "        x = self.cnn(im)\n",
    "        x = self.head(x)\n",
    "        return x.sigmoid_()"
   ]
  },
  {
   "cell_type": "code",
   "execution_count": 21,
   "metadata": {},
   "outputs": [],
   "source": [
    "mdl = FlukeDetector2(arch=models.resnet50)"
   ]
  },
  {
   "cell_type": "code",
   "execution_count": 33,
   "metadata": {},
   "outputs": [
    {
     "data": {
      "text/plain": [
       "['cnn.0.weight',\n",
       " 'cnn.1.weight',\n",
       " 'cnn.1.bias',\n",
       " 'cnn.1.running_mean',\n",
       " 'cnn.1.running_var',\n",
       " 'cnn.1.num_batches_tracked',\n",
       " 'cnn.4.0.conv1.weight',\n",
       " 'cnn.4.0.bn1.weight',\n",
       " 'cnn.4.0.bn1.bias',\n",
       " 'cnn.4.0.bn1.running_mean',\n",
       " 'cnn.4.0.bn1.running_var',\n",
       " 'cnn.4.0.bn1.num_batches_tracked',\n",
       " 'cnn.4.0.conv2.weight',\n",
       " 'cnn.4.0.bn2.weight',\n",
       " 'cnn.4.0.bn2.bias',\n",
       " 'cnn.4.0.bn2.running_mean',\n",
       " 'cnn.4.0.bn2.running_var',\n",
       " 'cnn.4.0.bn2.num_batches_tracked',\n",
       " 'cnn.4.1.conv1.weight',\n",
       " 'cnn.4.1.bn1.weight']"
      ]
     },
     "execution_count": 33,
     "metadata": {},
     "output_type": "execute_result"
    }
   ],
   "source": [
    "list(mdl.state_dict().keys())[:20]"
   ]
  },
  {
   "cell_type": "code",
   "execution_count": 30,
   "metadata": {},
   "outputs": [
    {
     "data": {
      "text/plain": [
       "'cnn.1.weight'"
      ]
     },
     "execution_count": 30,
     "metadata": {},
     "output_type": "execute_result"
    }
   ],
   "source": [
    "list(weights.keys())[:20][1]"
   ]
  },
  {
   "cell_type": "code",
   "execution_count": 36,
   "metadata": {},
   "outputs": [],
   "source": [
    "mdl.load_state_dict(state_dict=weights, strict=False)"
   ]
  },
  {
   "cell_type": "code",
   "execution_count": 37,
   "metadata": {},
   "outputs": [
    {
     "data": {
      "text/plain": [
       "tensor([[0.0602, 0.0236, 0.9241, 0.9811],\n",
       "        [0.1750, 0.0925, 0.7596, 0.8648],\n",
       "        [0.2676, 0.2358, 0.7410, 0.7573],\n",
       "        [0.2904, 0.1856, 0.7748, 0.9065]], grad_fn=<SigmoidBackward>)"
      ]
     },
     "execution_count": 37,
     "metadata": {},
     "output_type": "execute_result"
    }
   ],
   "source": [
    "a = torch.rand(4, 3, 500, 500)\n",
    "mdl(a)"
   ]
  },
  {
   "cell_type": "code",
   "execution_count": 32,
   "metadata": {},
   "outputs": [
    {
     "data": {
      "text/plain": [
       "array([[0.655848, 0.382767, 0.509568, 0.584517],\n",
       "       [0.444238, 0.495169, 0.3545  , 0.322035],\n",
       "       [0.557973, 0.543674, 0.352894, 0.66705 ],\n",
       "       [0.506991, 0.464837, 0.556003, 0.51314 ]], dtype=float32)"
      ]
     },
     "execution_count": 32,
     "metadata": {},
     "output_type": "execute_result"
    }
   ],
   "source": [
    "a = torch.rand(4, 3, 255, 500)\n",
    "mdl(a).detach().numpy()"
   ]
  }
 ],
 "metadata": {
  "kernelspec": {
   "display_name": "env-furry-geras",
   "language": "python",
   "name": "env-furry-geras"
  },
  "language_info": {
   "codemirror_mode": {
    "name": "ipython",
    "version": 3
   },
   "file_extension": ".py",
   "mimetype": "text/x-python",
   "name": "python",
   "nbconvert_exporter": "python",
   "pygments_lexer": "ipython3",
   "version": "3.7.2"
  }
 },
 "nbformat": 4,
 "nbformat_minor": 2
}
