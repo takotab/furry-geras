{
 "cells": [
  {
   "cell_type": "code",
   "execution_count": 3,
   "metadata": {},
   "outputs": [],
   "source": [
    "import os\n",
    "import logging\n",
    "import os\n",
    "\n",
    "import matplotlib.pyplot as plt\n",
    "from pathlib import Path\n",
    "import pandas as pd\n",
    "from torch.utils.data import Dataset\n",
    "import numpy as np"
   ]
  },
  {
   "cell_type": "code",
   "execution_count": 4,
   "metadata": {},
   "outputs": [
    {
     "name": "stdout",
     "output_type": "stream",
     "text": [
      "loading annotations into memory...\n",
      "Done (t=0.78s)\n",
      "creating index...\n",
      "index created!\n"
     ]
    }
   ],
   "source": [
    "from pycocotools.coco import COCO\n",
    "from pycocotools.cocoeval import COCOeval\n",
    "\n",
    "dataDir = \"/home/tako/devtools/furry-geras/coco\"\n",
    "dataType = \"val2017\"\n",
    "annFile = \"{}/instances_{}.json\".format(dataDir, dataType)\n",
    "coco = COCO(annFile)"
   ]
  },
  {
   "cell_type": "code",
   "execution_count": 5,
   "metadata": {},
   "outputs": [],
   "source": [
    "size = 224\n",
    "sizes = {}\n",
    "for f in Path(dataDir + \"/\"+ dataType).glob(\"*.jpg\"):\n",
    "    \n",
    "    id = int(f.name.replace(\".jpg\",\"\"))\n",
    "    im_ann = coco.loadImgs(id)[0]\n",
    "    width = im_ann[\"width\"]\n",
    "    height = im_ann[\"height\"]\n",
    "    sizes[id] = {key: im_ann[key] for key in [\"width\",\"height\"]}"
   ]
  },
  {
   "cell_type": "code",
   "execution_count": 24,
   "metadata": {},
   "outputs": [
    {
     "data": {
      "text/html": [
       "<div>\n",
       "<style scoped>\n",
       "    .dataframe tbody tr th:only-of-type {\n",
       "        vertical-align: middle;\n",
       "    }\n",
       "\n",
       "    .dataframe tbody tr th {\n",
       "        vertical-align: top;\n",
       "    }\n",
       "\n",
       "    .dataframe thead th {\n",
       "        text-align: right;\n",
       "    }\n",
       "</style>\n",
       "<table border=\"1\" class=\"dataframe\">\n",
       "  <thead>\n",
       "    <tr style=\"text-align: right;\">\n",
       "      <th></th>\n",
       "      <th>height</th>\n",
       "      <th>width</th>\n",
       "    </tr>\n",
       "  </thead>\n",
       "  <tbody>\n",
       "    <tr>\n",
       "      <th>140286</th>\n",
       "      <td>521</td>\n",
       "      <td>640</td>\n",
       "    </tr>\n",
       "    <tr>\n",
       "      <th>389197</th>\n",
       "      <td>426</td>\n",
       "      <td>640</td>\n",
       "    </tr>\n",
       "    <tr>\n",
       "      <th>50638</th>\n",
       "      <td>393</td>\n",
       "      <td>640</td>\n",
       "    </tr>\n",
       "    <tr>\n",
       "      <th>165500</th>\n",
       "      <td>480</td>\n",
       "      <td>640</td>\n",
       "    </tr>\n",
       "    <tr>\n",
       "      <th>23781</th>\n",
       "      <td>427</td>\n",
       "      <td>640</td>\n",
       "    </tr>\n",
       "  </tbody>\n",
       "</table>\n",
       "</div>"
      ],
      "text/plain": [
       "        height  width\n",
       "140286     521    640\n",
       "389197     426    640\n",
       "50638      393    640\n",
       "165500     480    640\n",
       "23781      427    640"
      ]
     },
     "execution_count": 24,
     "metadata": {},
     "output_type": "execute_result"
    }
   ],
   "source": [
    "df = pd.DataFrame().from_dict(sizes).T\n",
    "df.head()"
   ]
  },
  {
   "cell_type": "code",
   "execution_count": 25,
   "metadata": {},
   "outputs": [],
   "source": [
    "import seaborn as sns"
   ]
  },
  {
   "cell_type": "code",
   "execution_count": 26,
   "metadata": {},
   "outputs": [
    {
     "data": {
      "text/plain": [
       "<seaborn.axisgrid.JointGrid at 0x7f90990d2240>"
      ]
     },
     "execution_count": 26,
     "metadata": {},
     "output_type": "execute_result"
    },
    {
     "data": {
      "image/png": "[encoded data removed]",
      "text/plain": [
       "<Figure size 432x432 with 3 Axes>"
      ]
     },
     "metadata": {
      "needs_background": "light"
     },
     "output_type": "display_data"
    }
   ],
   "source": [
    "sns.jointplot(x=\"width\", y=\"height\", data=df, kind=\"kde\")"
   ]
  },
  {
   "cell_type": "code",
   "execution_count": 21,
   "metadata": {},
   "outputs": [],
   "source": [
    "from PIL import Image\n",
    "size = 500\n",
    "new_path = Path(dataDir + \"/\"+ dataType + f\"-{size}\")\n",
    "if not new_path.exists():\n",
    "    os.mkdir(new_path)"
   ]
  },
  {
   "cell_type": "code",
   "execution_count": 30,
   "metadata": {},
   "outputs": [],
   "source": [
    "\n",
    "data_dct = {}\n",
    "num_image = []\n",
    "for i, f in enumerate(Path(dataDir + \"/\"+ dataType).glob(\"*.jpg\")):\n",
    "    id = int(f.name.replace(\".jpg\",\"\"))\n",
    "    im_ann = coco.loadImgs(id)[0]\n",
    "    width = im_ann[\"width\"]\n",
    "    height = im_ann[\"height\"]\n",
    "    annIds = coco.getAnnIds(imgIds=id, iscrowd=False)\n",
    "    objs = coco.loadAnns(annIds)\n",
    "#     print(height,width)\n",
    "    # sanitize bboxes\n",
    "    valid_objs = []\n",
    "    for obj in objs:\n",
    "        x, y, w, h = obj[\"bbox\"]\n",
    "        x1 = np.max((0, x))\n",
    "        y1 = np.max((0, y))\n",
    "        x2 = np.min((width - 1, x1 + np.max((0, w - 1))))\n",
    "        y2 = np.min((height - 1, y1 + np.max((0, h - 1))))\n",
    "        if obj[\"area\"] > 0 and x2 >= x1 and y2 >= y1:\n",
    "            # obj['clean_bbox'] = [x1, y1, x2, y2]\n",
    "            obj[\"clean_bbox\"] = [x1, y1, x2 - x1, y2 - y1]\n",
    "            valid_objs.append(obj)\n",
    "        \n",
    "    objs = valid_objs    \n",
    "    bboxs = []\n",
    "    for obj in objs:\n",
    "        cls = obj['category_id']\n",
    "        if cls != 1:\n",
    "            continue   \n",
    "        if obj['area'] < 2500:\n",
    "            continue\n",
    "        bboxs.append(obj['clean_bbox'])\n",
    "    \n",
    "    if len(bboxs) == 1:\n",
    "        bbox = bboxs[0]\n",
    "        data_dct[f.name] = {\n",
    "            \"filename\": f,\n",
    "            \"y\": bbox[0],\n",
    "            \"x\": bbox[1],\n",
    "            \"height\": bbox[2],\n",
    "            \"width\": bbox[3],\n",
    "        }\n",
    "    \n",
    "\n",
    "\n",
    "dataset = pd.DataFrame.from_dict(data_dct).T\n",
    "dataset.to_csv(f\"coco/{dataType}_one_human.csv\", index=False)\n"
   ]
  },
  {
   "cell_type": "code",
   "execution_count": 31,
   "metadata": {},
   "outputs": [
    {
     "data": {
      "text/plain": [
       "(1150, 5)"
      ]
     },
     "execution_count": 31,
     "metadata": {},
     "output_type": "execute_result"
    }
   ],
   "source": [
    "\n",
    "dataset.shape"
   ]
  },
  {
   "cell_type": "code",
   "execution_count": 20,
   "metadata": {},
   "outputs": [
    {
     "data": {
      "text/plain": [
       "0.28"
      ]
     },
     "execution_count": 20,
     "metadata": {},
     "output_type": "execute_result"
    }
   ],
   "source": [
    "np.mean(a>2)"
   ]
  },
  {
   "cell_type": "code",
   "execution_count": 9,
   "metadata": {},
   "outputs": [],
   "source": [
    "from fastai.vision import *\n",
    "\n",
    "path = Path('coco')\n",
    "path_hr = path/'val2017'\n",
    "path_sr = path/'small-96'\n",
    "path_mr = path/'medium-256'\n",
    "path_lr = path/'large-400'\n",
    "\n",
    "il = ImageItemList.from_folder(path_hr)\n",
    "\n",
    "def resize_one(fn, i, path, size):\n",
    "    dest = path/fn.relative_to(path_hr)\n",
    "    dest.parent.mkdir(parents=True, exist_ok=True)\n",
    "    img = PIL.Image.open(fn)\n",
    "    targ_sz = resize_to(img, size, use_min=True)\n",
    "    img = img.resize(targ_sz, resample=PIL.Image.BILINEAR).convert('RGB')\n",
    "    img.save(dest, quality=75)\n",
    "\n",
    "# create smaller image sets the first time this nb is run\n",
    "sets = [(path_sr, 96), (path_mr, 256),(path_lr, 400)]\n",
    "for p,size in sets:\n",
    "    if not p.exists(): \n",
    "        print(f\"resizing to {size} into {p}\")\n",
    "        parallel(partial(resize_one, path=p, size=size), il.items)"
   ]
  }
 ],
 "metadata": {
  "kernelspec": {
   "display_name": "env-furry-geras",
   "language": "python",
   "name": "env-furry-geras"
  },
  "language_info": {
   "codemirror_mode": {
    "name": "ipython",
    "version": 3
   },
   "file_extension": ".py",
   "mimetype": "text/x-python",
   "name": "python",
   "nbconvert_exporter": "python",
   "pygments_lexer": "ipython3",
   "version": "3.7.2"
  }
 },
 "nbformat": 4,
 "nbformat_minor": 2
}
